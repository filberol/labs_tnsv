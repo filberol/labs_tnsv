{
 "cells": [
  {
   "cell_type": "markdown",
   "id": "a84c23c547f3edc",
   "metadata": {},
   "source": [
    "## Лабораторная работа №3 ONNX Runtime\n",
    "\n",
    "### Сегментатор растений"
   ]
  },
  {
   "metadata": {
    "ExecuteTime": {
     "end_time": "2024-12-16T12:23:23.793494Z",
     "start_time": "2024-12-16T12:23:23.783385Z"
    }
   },
   "cell_type": "code",
   "source": [
    "import os\n",
    "from keras_preprocessing.image import load_img, img_to_array\n",
    "from sklearn.model_selection import train_test_split\n",
    "\n",
    "image_folder = 'data/images'\n",
    "mask_folder = 'data/masks'\n",
    "\n",
    "image_filenames = os.listdir(image_folder)\n",
    "image_filenames.sort()\n",
    "mask_filenames = os.listdir(mask_folder)\n",
    "mask_filenames.sort()\n",
    "\n",
    "IMG_HEIGHT = 256\n",
    "IMG_WIDTH = 256\n",
    "BATCH_SIZE = 16\n",
    "EPOCHS = 10\n",
    "\n",
    "def load_images_and_masks(image_dir, mask_dir, img_height, img_width):\n",
    "    images = []\n",
    "    masks = []\n",
    "\n",
    "    for image_name in os.listdir(image_dir):\n",
    "        img_path = os.path.join(image_dir, image_name)\n",
    "        img = load_img(img_path, target_size=(img_height, img_width))\n",
    "        img = img_to_array(img) / 255.0\n",
    "        images.append(img)\n",
    "\n",
    "        mask_path = os.path.join(mask_dir, image_name)\n",
    "        mask = load_img(mask_path, target_size=(img_height, img_width), color_mode=\"grayscale\")\n",
    "        mask = img_to_array(mask) / 255.0\n",
    "        masks.append(mask)\n",
    "\n",
    "    return np.array(images), np.array(masks)"
   ],
   "id": "77057273aff4b131",
   "outputs": [],
   "execution_count": 121
  },
  {
   "metadata": {
    "ExecuteTime": {
     "end_time": "2024-12-16T12:24:14.424003Z",
     "start_time": "2024-12-16T12:23:23.798843Z"
    }
   },
   "cell_type": "code",
   "source": [
    "images, masks = load_images_and_masks(image_folder, mask_folder, IMG_HEIGHT, IMG_WIDTH)\n",
    "\n",
    "X_train, X_val, y_train, y_val = train_test_split(images, masks, test_size=0.2, random_state=42)"
   ],
   "id": "23d3145ea7e8a473",
   "outputs": [],
   "execution_count": 122
  },
  {
   "metadata": {
    "ExecuteTime": {
     "end_time": "2024-12-16T12:24:15.180683Z",
     "start_time": "2024-12-16T12:24:15.177286Z"
    }
   },
   "cell_type": "code",
   "source": [
    "import random\n",
    "import numpy as np\n",
    "\n",
    "idx = random.randint(0, len(X_val) - 1)\n",
    "input_image = X_val[idx]\n",
    "input_image_expanded = np.expand_dims(input_image, axis=0)"
   ],
   "id": "3b7e8d07f60ae8c3",
   "outputs": [],
   "execution_count": 123
  },
  {
   "cell_type": "code",
   "id": "initial_id",
   "metadata": {
    "collapsed": true,
    "jupyter": {
     "outputs_hidden": true
    },
    "ExecuteTime": {
     "end_time": "2024-12-16T12:24:16.126092Z",
     "start_time": "2024-12-16T12:24:15.927407Z"
    }
   },
   "source": [
    "import onnxruntime as ort\n",
    "import numpy as np\n",
    "import time\n",
    "\n",
    "session = ort.InferenceSession(\"model.onnx\")\n",
    "\n",
    "input_name = session.get_inputs()[0].name\n",
    "\n",
    "start_time = time.time()\n",
    "output = session.run(None, {input_name: input_image_expanded})\n",
    "end_time = time.time()\n",
    "\n",
    "print(f\"Время инференса: {end_time - start_time} секунд\")"
   ],
   "outputs": [
    {
     "name": "stdout",
     "output_type": "stream",
     "text": [
      "Время инференса: 0.18994784355163574 секунд\n"
     ]
    },
    {
     "name": "stderr",
     "output_type": "stream",
     "text": [
      "\u001B[0;93m2024-12-16 15:24:15.918085 [W:onnxruntime:Default, upsamplebase.h:178 UpsampleBase] `tf_half_pixel_for_nn` is deprecated since opset 13, yet this opset 13 model uses the deprecated attribute\u001B[m\n",
      "\u001B[0;93m2024-12-16 15:24:15.918099 [W:onnxruntime:Default, upsamplebase.h:178 UpsampleBase] `tf_half_pixel_for_nn` is deprecated since opset 13, yet this opset 13 model uses the deprecated attribute\u001B[m\n"
     ]
    }
   ],
   "execution_count": 124
  },
  {
   "metadata": {
    "ExecuteTime": {
     "end_time": "2024-12-16T12:24:17.099628Z",
     "start_time": "2024-12-16T12:24:16.873261Z"
    }
   },
   "cell_type": "code",
   "source": [
    "import onnx\n",
    "from onnxruntime import InferenceSession\n",
    "from onnxruntime_tools import optimizer\n",
    "\n",
    "model_path = \"model.onnx\"\n",
    "model = onnx.load(model_path)\n",
    "\n",
    "optimized_model = optimizer.optimize_model(model_path)\n",
    "\n",
    "onnx.save_model(optimized_model.model, \"optimized_model.onnx\")\n",
    "\n",
    "session = InferenceSession(\"optimized_model.onnx\")\n",
    "\n",
    "start_time = time.time()\n",
    "output = session.run(None, {input_name: input_image_expanded})\n",
    "end_time = time.time()\n",
    "\n",
    "print(f\"Время инференса: {end_time - start_time} секунд\")\n"
   ],
   "id": "6a73b915cd313fa3",
   "outputs": [
    {
     "name": "stderr",
     "output_type": "stream",
     "text": [
      "\u001B[0;93m2024-12-16 15:24:16.863682 [W:onnxruntime:Default, upsamplebase.h:178 UpsampleBase] `tf_half_pixel_for_nn` is deprecated since opset 13, yet this opset 13 model uses the deprecated attribute\u001B[m\n",
      "\u001B[0;93m2024-12-16 15:24:16.863696 [W:onnxruntime:Default, upsamplebase.h:178 UpsampleBase] `tf_half_pixel_for_nn` is deprecated since opset 13, yet this opset 13 model uses the deprecated attribute\u001B[m\n",
      "Model producer not matched: Expect pytorch,  Got tf2onnx 1.16.1 15c810. Please specify correct --model_type parameter.\n",
      "\u001B[0;93m2024-12-16 15:24:16.888518 [W:onnxruntime:Default, upsamplebase.h:178 UpsampleBase] `tf_half_pixel_for_nn` is deprecated since opset 13, yet this opset 13 model uses the deprecated attribute\u001B[m\n",
      "\u001B[0;93m2024-12-16 15:24:16.888541 [W:onnxruntime:Default, upsamplebase.h:178 UpsampleBase] `tf_half_pixel_for_nn` is deprecated since opset 13, yet this opset 13 model uses the deprecated attribute\u001B[m\n"
     ]
    },
    {
     "name": "stdout",
     "output_type": "stream",
     "text": [
      "Время инференса: 0.1924302577972412 секунд\n"
     ]
    }
   ],
   "execution_count": 125
  }
 ],
 "metadata": {
  "kernelspec": {
   "display_name": "Python 3 (ipykernel)",
   "language": "python",
   "name": "python3"
  },
  "language_info": {
   "codemirror_mode": {
    "name": "ipython",
    "version": 3
   },
   "file_extension": ".py",
   "mimetype": "text/x-python",
   "name": "python",
   "nbconvert_exporter": "python",
   "pygments_lexer": "ipython3",
   "version": "3.9.6"
  }
 },
 "nbformat": 4,
 "nbformat_minor": 5
}
