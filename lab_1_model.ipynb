{
 "cells": [
  {
   "cell_type": "markdown",
   "id": "709bfec929384a34",
   "metadata": {},
   "source": [
    "## Лабораторная работа №1 Исследование датасета\n",
    "\n",
    "### Сегментатор растений"
   ]
  },
  {
   "cell_type": "code",
   "id": "c95daace2e37833e",
   "metadata": {
    "jupyter": {
     "is_executing": true
    }
   },
   "source": [
    "import os\n",
    "import numpy as np\n",
    "import tensorflow as tf\n",
    "from sklearn.model_selection import train_test_split\n",
    "import tensorflow.keras\n",
    "import tensorflow as tf\n",
    "preproc = tf.keras.preprocessing.image"
   ],
   "outputs": [],
   "execution_count": null
  },
  {
   "cell_type": "markdown",
   "id": "869c7bd32dcc91a8",
   "metadata": {},
   "source": "Создадим модель"
  },
  {
   "cell_type": "code",
   "id": "780ab005a555705d",
   "metadata": {},
   "source": [
    "image_folder = 'data/images'\n",
    "mask_folder = 'data/masks'\n",
    "green_color = [0x78, 0xC8, 0x14]\n",
    "total_pixels = None\n",
    "\n",
    "image_filenames = os.listdir(image_folder)\n",
    "image_filenames.sort()\n",
    "mask_filenames = os.listdir(mask_folder)\n",
    "mask_filenames.sort()\n",
    "\n",
    "# Parameters\n",
    "IMG_HEIGHT = 256\n",
    "IMG_WIDTH = 256\n",
    "BATCH_SIZE = 16\n",
    "\n",
    "def load_images_and_masks(image_dir, mask_dir, img_height, img_width):\n",
    "    images = []\n",
    "    masks = []\n",
    "\n",
    "    for image_name in os.listdir(image_dir):\n",
    "        # Load image\n",
    "        img_path = os.path.join(image_dir, image_name)\n",
    "        img = preproc.load_img(img_path, target_size=(img_height, img_width))\n",
    "        img = preproc.img_to_array(img) / 255.0  # Normalize to [0, 1]\n",
    "        images.append(img)\n",
    "\n",
    "        # Load corresponding mask\n",
    "        mask_path = os.path.join(mask_dir, image_name)  # Assume same filename\n",
    "        mask = preproc.load_img(mask_path, target_size=(img_height, img_width), color_mode=\"grayscale\")\n",
    "        mask = preproc.img_to_array(mask) / 255.0  # Normalize to [0, 1]\n",
    "        masks.append(mask)\n",
    "\n",
    "    return np.array(images), np.array(masks)"
   ],
   "outputs": [],
   "execution_count": null
  }
 ],
 "metadata": {
  "kernelspec": {
   "display_name": "Python 3 (ipykernel)",
   "language": "python",
   "name": "python3"
  },
  "language_info": {
   "codemirror_mode": {
    "name": "ipython",
    "version": 3
   },
   "file_extension": ".py",
   "mimetype": "text/x-python",
   "name": "python",
   "nbconvert_exporter": "python",
   "pygments_lexer": "ipython3",
   "version": "3.12.2"
  }
 },
 "nbformat": 4,
 "nbformat_minor": 5
}
